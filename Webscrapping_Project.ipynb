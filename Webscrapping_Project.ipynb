{
  "nbformat": 4,
  "nbformat_minor": 0,
  "metadata": {
    "colab": {
      "provenance": []
    },
    "kernelspec": {
      "name": "python3",
      "display_name": "Python 3"
    },
    "language_info": {
      "name": "python"
    }
  },
  "cells": [
    {
      "cell_type": "markdown",
      "source": [
        "# **DOCUMENTATION**\n",
        "\n",
        "**Importing Beautiful soup Library**\n",
        "\n",
        "- Get the URL requests.get() and store it in a variable\n",
        "\n",
        "- convert the page into text format save it in a name variable\n",
        "\n",
        "- parse the text format through Beautiful Soup\n",
        "\n",
        "- use **.find_all**  method in conjunction with the name of the tage and its id to identify various data from the site associated with the name of the tag.\n",
        "\n",
        "- Run a for loop to iterate through the tags and use the **.getText(**)  method to extract the various data held by the tags\n",
        "\n",
        "- Use **print()** function to diplaly the contents of the for loop\n",
        "\n",
        "- The Results returned comes as a list, convert the results in to a dictionary\n",
        "mine was name  **my_dict = { }**\n",
        "\n",
        "- Import **tabulate library** and table the scrapped data\n",
        "\n",
        "\n",
        "**print(\"happy webscrapping\")**"
      ],
      "metadata": {
        "id": "YSmUc-xmP6gU"
      }
    },
    {
      "cell_type": "code",
      "execution_count": null,
      "metadata": {
        "id": "eR4omk2KkASl",
        "colab": {
          "base_uri": "https://localhost:8080/"
        },
        "outputId": "daece849-3e28-4e3b-878a-a50ab7dc78a4"
      },
      "outputs": [
        {
          "output_type": "stream",
          "name": "stdout",
          "text": [
            "['Building end-to-end security for Messenger', 'Crush Your Interviews with the Power of Storytelling', 'Cabinets of curiosities laid the foundation for modern museums', 'Long context prompting for Claude 2.1', 'Untrusted Device Encryption', 'Unveiling secrets of the ESP32: creating an open-source MAC layer', 'LogoFAIL: Secure Boot bypass with manipulated boot logos', 'Behind the scenes of Sound ID in Merlin – Identify birds using your phone (2021)', 'Five-Disk Floppy RAID: 4MB of Blistering Fast Storage (2009)', \"He blew the whistle on Amazon. He's still paying the price\", 'AN/PSQ-42', 'Gemini AI', 'Gordon Freeman at the Olympic Games', 'A slightly longer Lean 4 proof tour', 'For processing strings, streams in C++ can be slow', 'Stern-Gerlach experiment used to probe the clash of quantum theory and gravity', 'Brain-Inspired Efficient Pruning: Criticality in Spiking Neural Networks', 'Vowels and diphthongs in sperm whales', 'Browsing the Eastern Side of the Personal Web', \"Is El Salvador's Bitcoin bet paying off?\", 'Researchers have discovered magnetic monopole quasi-particles', 'The Eval Game', 'Philosophy of Biff', '23andMe updates their TOS to force binding arbitration', 'The extremely large telescope will transform astronomy', 'The Sheep Incident (2008)', 'Cdpath: Easily Navigate Directories in the Terminal', 'Painting is Terribly Difficult']\n",
            "['https://engineering.fb.com/2023/12/06/security/building-end-to-end-security-for-messenger/', 'https://www.scarletink.com/p/crush-your-interviews-power-of-storytelling', 'https://www.smithsonianmag.com/history/how-cabinets-of-curiosities-laid-the-foundation-for-modern-museums-180983265/', 'https://www.anthropic.com/index/claude-2-1-prompting', 'https://docs.syncthing.net/specs/untrusted.html', 'https://zeus.ugent.be/blog/23-24/open-source-esp32-wifi-mac/', 'https://binarly.io/posts/The_Far_Reaching_Consequences_of_LogoFAIL/', 'https://www.macaulaylibrary.org/2021/06/22/behind-the-scenes-of-sound-id-in-merlin/', 'https://www.wired.com/2009/05/five-disk-floppy-raid-4mb-of-blistering-fast-storage/', 'https://www.ft.com/content/de5fea12-2938-4c20-b394-10ca258a5fa1', 'https://en.wikipedia.org/wiki/AN/PSQ-42', 'https://deepmind.google/technologies/gemini/', 'https://moonbase.lgbt/blog/100m-accelerated-backhopping/', 'https://terrytao.wordpress.com/2023/12/05/a-slightly-longer-lean-4-proof-tour/', 'https://lemire.me/blog/2023/10/19/for-processing-strings-streams-in-c-can-be-slow/', 'https://www.quantamagazine.org/the-often-overlooked-experiment-that-revealed-the-quantum-world-20231205/', 'https://arxiv.org/abs/2311.16141', 'https://osf.io/preprints/osf/285cs', 'https://www.bikobatanari.art/posts/2023/east-west-website-culture', 'https://www.bbc.com/news/technology-67637245', 'https://www.cam.ac.uk/research/news/diamonds-and-rust-help-unveil-impossible-quasi-particles', 'https://oskaerik.github.io/theevalgame/', 'https://biffweb.com/p/philosophy-of-biff/', 'https://stackdiary.com/23andme-updates-tos-to-force-binding-arbitration/', 'https://www.economist.com/interactive/science-and-technology/2023/12/06/the-extremely-telescope-will-trasform-astronomy', 'https://www.damninteresting.com/the-sheep-incident/', 'https://www.writesoftwarewell.com/cdpath-easily-navigate-directories-in-the-terminal/', 'https://www.lrb.co.uk/the-paper/v45/n24/julian-barnes/painting-is-terribly-difficult']\n",
            "[105, 39, 20, 171, 72, 219, 259, 133, 51, 20, 25, 1719, 183, 32, 62, 35, 22, 46, 114, 12, 116, 66, 7, 36, 218, 27, 98, 35, 63]\n"
          ]
        }
      ],
      "source": [
        "\n",
        "from bs4 import BeautifulSoup\n",
        "import requests\n",
        "\n",
        "response = requests.get('https://news.ycombinator.com/news')\n",
        "yc_web_page = response.text\n",
        "\n",
        "soup = BeautifulSoup(yc_web_page, \"html.parser\")\n",
        "\n",
        "articles = soup.find_all(name=\"a\", rel=\"noreferrer\")\n",
        "article_texts = []\n",
        "article_links = []\n",
        "for tag in articles:\n",
        "  text = tag.getText()\n",
        "  article_texts.append(text)\n",
        "  link = tag.get(\"href\")\n",
        "  article_links.append(link)\n",
        "\n",
        "upvotes = soup.find_all(name=\"span\", class_=\"score\")\n",
        "article_upvotes = []\n",
        "for vote in upvotes:\n",
        "  votes = int(vote.getText().split()[0])\n",
        "  article_upvotes.append(votes)\n",
        "\n",
        "print(article_texts)\n",
        "print(article_links)\n",
        "print(article_upvotes)"
      ]
    },
    {
      "cell_type": "code",
      "source": [
        "my_dict = {\n",
        "    \"texts\": article_texts,\n",
        "    \"links\": article_links,\n",
        "    \"upvotes\": article_upvotes\n",
        "}\n",
        "\n",
        "print(my_dict)"
      ],
      "metadata": {
        "colab": {
          "base_uri": "https://localhost:8080/"
        },
        "id": "ceYszGvdPxwf",
        "outputId": "c92fb07a-c14f-459c-f6ba-547c1dac8de3"
      },
      "execution_count": null,
      "outputs": [
        {
          "output_type": "stream",
          "name": "stdout",
          "text": [
            "{'texts': ['Designing a SIMD Algorithm from Scratch', 'The `hanging-punctuation property` in CSS', 'My toddler loves planes, so I built her a radar', 'Simplifying Transformer Blocks', 'C++ Memory Model: Migrating from x86 to ARM', 'The Hunt for Life in Alpha Centauri – Jstor Daily', \"Let's try to understand AI monosemanticity\", 'That time Verisign typo-squatted all of .com and .net', 'Large Interferometer for Exoplanets [pdf]', 'Cheaper microscope could bring protein mapping technique to the masses', \"Heron's Horse [video]\", 'Strange Metals: Where electricity may flow without electrons', 'Noyb files GDPR complaint against Meta over \"Pay or Okay\"', 'Custom Events in the Blocky World: Using JFR in Minecraft', 'U.N. Predicts Disaster If Global Warming Not Checked (1989)', 'The Price of Time: The Real Story of Interest', 'Optical Computing with Plasma [video]', 'Regulating the Rag and Bone Man (2017)', 'Etleap (YC W13) Is Hiring a Software Engineer (London or San Francisco)', 'Process for mass producing Japanese 500 yen coins', 'Show HN: Trains.fyi – a live map of passenger trains in the US and Canada', \"Antirez' tiny JSON selector library\", 'Show HN: A Dalle-3 and GPT4-Vision feedback loop', 'Running SQL Queries on Org Tables', 'Formation-Flying Interferometry in Geocentric Orbits', 'Orion Browser by Kagi', 'Visual effects model design [video] (1980)'], 'links': ['https://mcyoung.xyz/2023/11/27/simd-base64/', 'https://chriscoyier.net/2023/11/27/the-hanging-punctuation-property-in-css/', 'https://jacobbartlett.substack.com/p/my-toddler-loves-planes-so-i-built', 'https://arxiv.org/abs/2311.01906', 'https://arangodb.com/2021/02/cpp-memory-model-migrating-from-x86-to-arm/', 'https://daily.jstor.org/the-hunt-for-life-in-alpha-centauri/', 'https://www.astralcodexten.com/p/god-help-us-lets-try-to-understand', 'http://rachelbythebay.com/w/2023/11/27/sitefinder/', 'https://www.aanda.org/articles/aa/pdf/2023/10/aa45927-23.pdf', 'https://www.science.org/content/article/cheaper-microscope-could-bring-protein-mapping-technique-masses', 'https://www.youtube.com/watch?v=dmPgTDs9FRo', 'https://www.quantamagazine.org/meet-strange-metals-where-electricity-may-flow-without-electrons-20231127/', 'https://noyb.eu/en/noyb-files-gdpr-complaint-against-meta-over-pay-or-okay', 'https://mostlynerdless.de/blog/2023/11/27/custom-events-in-the-blocky-world-using-jfr-in-minecraft/', 'https://web.archive.org/web/20201101032435/https://apnews.com/article/bd45c372caf118ec99964ea547880cd0', 'https://www.lrb.co.uk/the-paper/v45/n22/jamie-martin/kettle-of-vultures', 'https://www.youtube.com/watch?v=Mdh2pLwsK8Y', 'https://blogs.loc.gov/law/2017/08/regulating-the-rag-and-bone-man/', 'https://etleap.com/careers/software-engineer/', 'https://theawesomer.com/how-coins-are-made/723090/', 'https://trains.fyi/', 'https://notes.billmill.org/link_blog/2023/11/antirez__tiny_JSON_selector_library.html', 'https://dalle.party/', 'http://yummymelon.com/devnull/running-sql-queries-on-org-tables.html', 'https://arxiv.org/abs/2311.10970', 'https://kagi.com/orion/', 'https://www.bbc.co.uk/archive/visual-effects-model-design/zdmgnrd'], 'upvotes': [45, 138, 986, 47, 40, 7, 254, 124, 19, 117, 6, 7, 114, 82, 20, 36, 87, 107, 27, 20, 57, 63, 423, 91, 417, 42, 42, 107, 5]}\n"
          ]
        }
      ]
    },
    {
      "cell_type": "code",
      "source": [
        "#Import table\n",
        "from tabulate import tabulate\n",
        "\n",
        "table = tabulate(my_dict, headers=\"keys\", tablefmt=\"pretty\")\n",
        "\n",
        "print(table)"
      ],
      "metadata": {
        "colab": {
          "base_uri": "https://localhost:8080/"
        },
        "id": "GCGWgiO4QY7p",
        "outputId": "b1aac99e-794c-41f5-e435-53c80d96869e"
      },
      "execution_count": null,
      "outputs": [
        {
          "output_type": "stream",
          "name": "stdout",
          "text": [
            "+---------------------------------------------------------------------------+-----------------------------------------------------------------------------------------------------------+---------+\n",
            "|                                   texts                                   |                                                   links                                                   | upvotes |\n",
            "+---------------------------------------------------------------------------+-----------------------------------------------------------------------------------------------------------+---------+\n",
            "|                  Designing a SIMD Algorithm from Scratch                  |                                https://mcyoung.xyz/2023/11/27/simd-base64/                                |   45    |\n",
            "|                 The `hanging-punctuation property` in CSS                 |                https://chriscoyier.net/2023/11/27/the-hanging-punctuation-property-in-css/                |   138   |\n",
            "|              My toddler loves planes, so I built her a radar              |                  https://jacobbartlett.substack.com/p/my-toddler-loves-planes-so-i-built                  |   986   |\n",
            "|                      Simplifying Transformer Blocks                       |                                     https://arxiv.org/abs/2311.01906                                      |   47    |\n",
            "|                C++ Memory Model: Migrating from x86 to ARM                |                 https://arangodb.com/2021/02/cpp-memory-model-migrating-from-x86-to-arm/                  |   40    |\n",
            "|             The Hunt for Life in Alpha Centauri – Jstor Daily             |                       https://daily.jstor.org/the-hunt-for-life-in-alpha-centauri/                        |    7    |\n",
            "|                Let's try to understand AI monosemanticity                 |                    https://www.astralcodexten.com/p/god-help-us-lets-try-to-understand                    |   254   |\n",
            "|           That time Verisign typo-squatted all of .com and .net           |                            http://rachelbythebay.com/w/2023/11/27/sitefinder/                             |   124   |\n",
            "|                 Large Interferometer for Exoplanets [pdf]                 |                       https://www.aanda.org/articles/aa/pdf/2023/10/aa45927-23.pdf                        |   19    |\n",
            "|  Cheaper microscope could bring protein mapping technique to the masses   |  https://www.science.org/content/article/cheaper-microscope-could-bring-protein-mapping-technique-masses  |   117   |\n",
            "|                           Heron's Horse [video]                           |                                https://www.youtube.com/watch?v=dmPgTDs9FRo                                |    6    |\n",
            "|       Strange Metals: Where electricity may flow without electrons        | https://www.quantamagazine.org/meet-strange-metals-where-electricity-may-flow-without-electrons-20231127/ |    7    |\n",
            "|         Noyb files GDPR complaint against Meta over \"Pay or Okay\"         |                https://noyb.eu/en/noyb-files-gdpr-complaint-against-meta-over-pay-or-okay                 |   114   |\n",
            "|         Custom Events in the Blocky World: Using JFR in Minecraft         |    https://mostlynerdless.de/blog/2023/11/27/custom-events-in-the-blocky-world-using-jfr-in-minecraft/    |   82    |\n",
            "|        U.N. Predicts Disaster If Global Warming Not Checked (1989)        |  https://web.archive.org/web/20201101032435/https://apnews.com/article/bd45c372caf118ec99964ea547880cd0   |   20    |\n",
            "|               The Price of Time: The Real Story of Interest               |                  https://www.lrb.co.uk/the-paper/v45/n22/jamie-martin/kettle-of-vultures                  |   36    |\n",
            "|                   Optical Computing with Plasma [video]                   |                                https://www.youtube.com/watch?v=Mdh2pLwsK8Y                                |   87    |\n",
            "|                  Regulating the Rag and Bone Man (2017)                   |                    https://blogs.loc.gov/law/2017/08/regulating-the-rag-and-bone-man/                     |   107   |\n",
            "|  Etleap (YC W13) Is Hiring a Software Engineer (London or San Francisco)  |                               https://etleap.com/careers/software-engineer/                               |   27    |\n",
            "|             Process for mass producing Japanese 500 yen coins             |                            https://theawesomer.com/how-coins-are-made/723090/                             |   20    |\n",
            "| Show HN: Trains.fyi – a live map of passenger trains in the US and Canada |                                            https://trains.fyi/                                            |   57    |\n",
            "|                    Antirez' tiny JSON selector library                    |           https://notes.billmill.org/link_blog/2023/11/antirez__tiny_JSON_selector_library.html           |   63    |\n",
            "|             Show HN: A Dalle-3 and GPT4-Vision feedback loop              |                                           https://dalle.party/                                            |   423   |\n",
            "|                     Running SQL Queries on Org Tables                     |                   http://yummymelon.com/devnull/running-sql-queries-on-org-tables.html                    |   91    |\n",
            "|           Formation-Flying Interferometry in Geocentric Orbits            |                                     https://arxiv.org/abs/2311.10970                                      |   417   |\n",
            "|                           Orion Browser by Kagi                           |                                          https://kagi.com/orion/                                          |   42    |\n",
            "|                Visual effects model design [video] (1980)                 |                     https://www.bbc.co.uk/archive/visual-effects-model-design/zdmgnrd                     |   42    |\n",
            "|                                                                           |                                                                                                           |   107   |\n",
            "|                                                                           |                                                                                                           |    5    |\n",
            "+---------------------------------------------------------------------------+-----------------------------------------------------------------------------------------------------------+---------+\n"
          ]
        }
      ]
    }
  ]
}